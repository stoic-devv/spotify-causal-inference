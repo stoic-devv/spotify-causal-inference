{
 "cells": [
  {
   "cell_type": "code",
   "execution_count": 29,
   "metadata": {},
   "outputs": [],
   "source": [
    "from causalnex.structure import StructureModel\n",
    "from causalnex.network import BayesianNetwork\n",
    "import pandas as pd\n",
    "from causalnex.evaluation import roc_auc\n"
   ]
  },
  {
   "cell_type": "code",
   "execution_count": 30,
   "metadata": {},
   "outputs": [],
   "source": [
    "def get_auc(sm1,df_train,df_test): \n",
    "    bn = BayesianNetwork(sm1)\n",
    "    bn = bn.fit_node_states_and_cpds(df_train)\n",
    "\n",
    "\n",
    "    roc, auc = roc_auc(bn, df_test, \"custom_skip\")\n",
    "    return auc"
   ]
  },
  {
   "cell_type": "code",
   "execution_count": 21,
   "metadata": {},
   "outputs": [
    {
     "name": "stderr",
     "output_type": "stream",
     "text": [
      "c:\\Users\\skadi\\AppData\\Local\\Programs\\Python\\Python37\\lib\\site-packages\\ipykernel_launcher.py:5: SettingWithCopyWarning: \n",
      "A value is trying to be set on a copy of a slice from a DataFrame.\n",
      "Try using .loc[row_indexer,col_indexer] = value instead\n",
      "\n",
      "See the caveats in the documentation: https://pandas.pydata.org/pandas-docs/stable/user_guide/indexing.html#returning-a-view-versus-a-copy\n",
      "  \"\"\"\n",
      "c:\\Users\\skadi\\AppData\\Local\\Programs\\Python\\Python37\\lib\\site-packages\\pandas\\core\\frame.py:4298: SettingWithCopyWarning: \n",
      "A value is trying to be set on a copy of a slice from a DataFrame\n",
      "\n",
      "See the caveats in the documentation: https://pandas.pydata.org/pandas-docs/stable/user_guide/indexing.html#returning-a-view-versus-a-copy\n",
      "  errors=errors,\n"
     ]
    }
   ],
   "source": [
    "\n",
    "df = pd.read_csv('../../data/session-df-ak.csv')\n",
    "cols1 = [ 'hour_of_day', 'session_position', 'premium', 'session_length','hist_user_behavior_is_shuffle', 'custom_skip'] # , 'custom_pause_before_play'\n",
    "df1 = df[cols1]\n",
    "for col in cols1:\n",
    "    df1[col] = df1[col].astype(int)\n",
    "df1.rename(columns={'hist_user_behavior_is_shuffle':'shuffle'},inplace =True)\n",
    "from sklearn.model_selection import train_test_split\n",
    "df_train,df_test = train_test_split(df1, test_size=0.2)\n"
   ]
  },
  {
   "cell_type": "code",
   "execution_count": 22,
   "metadata": {},
   "outputs": [
    {
     "name": "stderr",
     "output_type": "stream",
     "text": [
      "c:\\Users\\skadi\\AppData\\Local\\Programs\\Python\\Python37\\lib\\site-packages\\pgmpy\\models\\BayesianModel.py:10: FutureWarning: BayesianModel has been renamed to BayesianNetwork. Please use BayesianNetwork class, BayesianModel will be removed in future.\n",
      "  FutureWarning,\n"
     ]
    },
    {
     "name": "stdout",
     "output_type": "stream",
     "text": [
      "0.6707561589228699\n"
     ]
    }
   ],
   "source": [
    "# GIES \n",
    "sm = StructureModel()\n",
    "sm.add_edge(\"shuffle\",\"session_length\")\n",
    "sm.add_edge(\"shuffle\",\"custom_skip\")\n",
    "sm.add_edge(\"shuffle\",\"session_position\")\n",
    "sm.add_edge(\"shuffle\",\"premium\")\n",
    "sm.add_edge(\"session_length\",\"session_position\")\n",
    "sm.add_edge(\"session_length\",\"premium\")\n",
    "sm.add_edge(\"session_length\",\"custom_skip\")\n",
    "sm.add_edge(\"premium\",\"custom_skip\")\n",
    "sm.add_edge(\"hour_of_day\",\"session_length\")\n",
    "\n",
    "\n",
    "\n",
    "\n",
    "auc_gies = get_auc(sm,df_train,df_test)\n",
    "print(auc_gies)"
   ]
  },
  {
   "cell_type": "code",
   "execution_count": 35,
   "metadata": {},
   "outputs": [
    {
     "name": "stderr",
     "output_type": "stream",
     "text": [
      "c:\\Users\\skadi\\AppData\\Local\\Programs\\Python\\Python37\\lib\\site-packages\\pgmpy\\models\\BayesianModel.py:10: FutureWarning: BayesianModel has been renamed to BayesianNetwork. Please use BayesianNetwork class, BayesianModel will be removed in future.\n",
      "  FutureWarning,\n",
      "c:\\Users\\skadi\\AppData\\Local\\Programs\\Python\\Python37\\lib\\site-packages\\causalnex\\network\\network.py:367: SettingWithCopyWarning: \n",
      "A value is trying to be set on a copy of a slice from a DataFrame.\n",
      "Try using .loc[row_indexer,col_indexer] = value instead\n",
      "\n",
      "See the caveats in the documentation: https://pandas.pydata.org/pandas-docs/stable/user_guide/indexing.html#returning-a-view-versus-a-copy\n",
      "  df[col] = df[col].map(self._node_states[col])\n",
      "c:\\Users\\skadi\\AppData\\Local\\Programs\\Python\\Python37\\lib\\site-packages\\pgmpy\\factors\\discrete\\CPD.py:332: RuntimeWarning: invalid value encountered in true_divide\n",
      "  tabular_cpd.values = (cpd / cpd.sum(axis=0)).reshape(tabular_cpd.cardinality)\n"
     ]
    },
    {
     "name": "stdout",
     "output_type": "stream",
     "text": [
      "0.6731249195279381\n"
     ]
    }
   ],
   "source": [
    "sm_lingam = StructureModel()\n",
    "sm_lingam.add_edge(\"shuffle\",\"session_position\")\n",
    "sm_lingam.add_edge(\"shuffle\",\"custom_skip\")\n",
    "sm_lingam.add_edge(\"session_length\",\"premium\")\n",
    "sm_lingam.add_edge(\"session_length\",\"custom_skip\")\n",
    "sm_lingam.add_edge(\"session_position\",\"custom_skip\")\n",
    "sm_lingam.add_edge(\"session_position\",\"custom_skip\")\n",
    "auc_lingam = get_auc(sm_lingam,df_train,df_test)\n",
    "print(auc_lingam)\n"
   ]
  },
  {
   "cell_type": "code",
   "execution_count": 32,
   "metadata": {},
   "outputs": [
    {
     "data": {
      "text/html": [
       "<div>\n",
       "<style scoped>\n",
       "    .dataframe tbody tr th:only-of-type {\n",
       "        vertical-align: middle;\n",
       "    }\n",
       "\n",
       "    .dataframe tbody tr th {\n",
       "        vertical-align: top;\n",
       "    }\n",
       "\n",
       "    .dataframe thead th {\n",
       "        text-align: right;\n",
       "    }\n",
       "</style>\n",
       "<table border=\"1\" class=\"dataframe\">\n",
       "  <thead>\n",
       "    <tr style=\"text-align: right;\">\n",
       "      <th></th>\n",
       "      <th>hour_of_day</th>\n",
       "      <th>session_position</th>\n",
       "      <th>premium</th>\n",
       "      <th>session_length</th>\n",
       "      <th>shuffle</th>\n",
       "      <th>custom_skip</th>\n",
       "    </tr>\n",
       "  </thead>\n",
       "  <tbody>\n",
       "    <tr>\n",
       "      <th>129177</th>\n",
       "      <td>1</td>\n",
       "      <td>10</td>\n",
       "      <td>0</td>\n",
       "      <td>20</td>\n",
       "      <td>1</td>\n",
       "      <td>0</td>\n",
       "    </tr>\n",
       "    <tr>\n",
       "      <th>41196</th>\n",
       "      <td>14</td>\n",
       "      <td>12</td>\n",
       "      <td>1</td>\n",
       "      <td>18</td>\n",
       "      <td>0</td>\n",
       "      <td>1</td>\n",
       "    </tr>\n",
       "    <tr>\n",
       "      <th>124439</th>\n",
       "      <td>10</td>\n",
       "      <td>14</td>\n",
       "      <td>1</td>\n",
       "      <td>15</td>\n",
       "      <td>0</td>\n",
       "      <td>1</td>\n",
       "    </tr>\n",
       "    <tr>\n",
       "      <th>120097</th>\n",
       "      <td>18</td>\n",
       "      <td>7</td>\n",
       "      <td>1</td>\n",
       "      <td>20</td>\n",
       "      <td>1</td>\n",
       "      <td>1</td>\n",
       "    </tr>\n",
       "    <tr>\n",
       "      <th>61247</th>\n",
       "      <td>3</td>\n",
       "      <td>11</td>\n",
       "      <td>0</td>\n",
       "      <td>15</td>\n",
       "      <td>0</td>\n",
       "      <td>1</td>\n",
       "    </tr>\n",
       "    <tr>\n",
       "      <th>...</th>\n",
       "      <td>...</td>\n",
       "      <td>...</td>\n",
       "      <td>...</td>\n",
       "      <td>...</td>\n",
       "      <td>...</td>\n",
       "      <td>...</td>\n",
       "    </tr>\n",
       "    <tr>\n",
       "      <th>71168</th>\n",
       "      <td>0</td>\n",
       "      <td>1</td>\n",
       "      <td>0</td>\n",
       "      <td>15</td>\n",
       "      <td>0</td>\n",
       "      <td>0</td>\n",
       "    </tr>\n",
       "    <tr>\n",
       "      <th>129989</th>\n",
       "      <td>12</td>\n",
       "      <td>3</td>\n",
       "      <td>1</td>\n",
       "      <td>20</td>\n",
       "      <td>0</td>\n",
       "      <td>1</td>\n",
       "    </tr>\n",
       "    <tr>\n",
       "      <th>100319</th>\n",
       "      <td>8</td>\n",
       "      <td>8</td>\n",
       "      <td>1</td>\n",
       "      <td>20</td>\n",
       "      <td>0</td>\n",
       "      <td>1</td>\n",
       "    </tr>\n",
       "    <tr>\n",
       "      <th>58142</th>\n",
       "      <td>0</td>\n",
       "      <td>5</td>\n",
       "      <td>0</td>\n",
       "      <td>15</td>\n",
       "      <td>1</td>\n",
       "      <td>1</td>\n",
       "    </tr>\n",
       "    <tr>\n",
       "      <th>126117</th>\n",
       "      <td>21</td>\n",
       "      <td>11</td>\n",
       "      <td>1</td>\n",
       "      <td>20</td>\n",
       "      <td>0</td>\n",
       "      <td>0</td>\n",
       "    </tr>\n",
       "  </tbody>\n",
       "</table>\n",
       "<p>134304 rows × 6 columns</p>\n",
       "</div>"
      ],
      "text/plain": [
       "        hour_of_day  session_position  premium  session_length  shuffle  \\\n",
       "129177            1                10        0              20        1   \n",
       "41196            14                12        1              18        0   \n",
       "124439           10                14        1              15        0   \n",
       "120097           18                 7        1              20        1   \n",
       "61247             3                11        0              15        0   \n",
       "...             ...               ...      ...             ...      ...   \n",
       "71168             0                 1        0              15        0   \n",
       "129989           12                 3        1              20        0   \n",
       "100319            8                 8        1              20        0   \n",
       "58142             0                 5        0              15        1   \n",
       "126117           21                11        1              20        0   \n",
       "\n",
       "        custom_skip  \n",
       "129177            0  \n",
       "41196             1  \n",
       "124439            1  \n",
       "120097            1  \n",
       "61247             1  \n",
       "...             ...  \n",
       "71168             0  \n",
       "129989            1  \n",
       "100319            1  \n",
       "58142             1  \n",
       "126117            0  \n",
       "\n",
       "[134304 rows x 6 columns]"
      ]
     },
     "execution_count": 32,
     "metadata": {},
     "output_type": "execute_result"
    }
   ],
   "source": [
    "df_train"
   ]
  },
  {
   "cell_type": "code",
   "execution_count": null,
   "metadata": {},
   "outputs": [],
   "source": []
  }
 ],
 "metadata": {
  "kernelspec": {
   "display_name": "Python 3.7.0 64-bit",
   "language": "python",
   "name": "python3"
  },
  "language_info": {
   "codemirror_mode": {
    "name": "ipython",
    "version": 3
   },
   "file_extension": ".py",
   "mimetype": "text/x-python",
   "name": "python",
   "nbconvert_exporter": "python",
   "pygments_lexer": "ipython3",
   "version": "3.7.0"
  },
  "orig_nbformat": 4,
  "vscode": {
   "interpreter": {
    "hash": "c548c4d28cac69e4b724820f1ba9632bab5d8cdda536691dd92cd5bd0e2afc3d"
   }
  }
 },
 "nbformat": 4,
 "nbformat_minor": 2
}
