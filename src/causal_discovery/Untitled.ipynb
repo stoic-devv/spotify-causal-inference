{
 "cells": [
  {
   "cell_type": "code",
   "execution_count": 1,
   "metadata": {},
   "outputs": [],
   "source": [
    "import pandas as pd\n",
    "import matplotlib.pyplot as plt\n",
    "df = pd.read_csv('../../data/session-df-ak.csv')"
   ]
  },
  {
   "cell_type": "code",
   "execution_count": 2,
   "metadata": {},
   "outputs": [
    {
     "name": "stderr",
     "output_type": "stream",
     "text": [
      "c:\\users\\skadi\\appdata\\local\\programs\\python\\python37\\lib\\site-packages\\ipykernel_launcher.py:4: SettingWithCopyWarning: \n",
      "A value is trying to be set on a copy of a slice from a DataFrame.\n",
      "Try using .loc[row_indexer,col_indexer] = value instead\n",
      "\n",
      "See the caveats in the documentation: https://pandas.pydata.org/pandas-docs/stable/user_guide/indexing.html#returning-a-view-versus-a-copy\n",
      "  after removing the cwd from sys.path.\n",
      "c:\\users\\skadi\\appdata\\local\\programs\\python\\python37\\lib\\site-packages\\pandas\\core\\frame.py:4298: SettingWithCopyWarning: \n",
      "A value is trying to be set on a copy of a slice from a DataFrame\n",
      "\n",
      "See the caveats in the documentation: https://pandas.pydata.org/pandas-docs/stable/user_guide/indexing.html#returning-a-view-versus-a-copy\n",
      "  errors=errors,\n"
     ]
    }
   ],
   "source": [
    "cols1 = [ 'hour_of_day', 'session_position', 'premium', 'session_length','hist_user_behavior_is_shuffle', 'custom_skip'] # , 'custom_pause_before_play'\n",
    "df1 = df[cols1]\n",
    "for col in cols1:\n",
    "    df1[col] = df1[col].astype(int)\n",
    "df1.rename(columns={'hist_user_behavior_is_shuffle':'shuffle'},inplace =True)"
   ]
  },
  {
   "cell_type": "code",
   "execution_count": 3,
   "metadata": {},
   "outputs": [],
   "source": [
    "import graphviz\n",
    "causal_graph = \"\"\"digraph {\n",
    "shuffle->{sesssion_position,custom_skip,session_length,premium};\n",
    "session_length->{session_position, custom_skip, premium};\n",
    "hour_of_day->session_length;\n",
    "premium->custom_skip;\n",
    "}\n",
    "\"\"\""
   ]
  },
  {
   "cell_type": "code",
   "execution_count": 20,
   "metadata": {},
   "outputs": [],
   "source": [
    "import dowhy\n",
    "model= dowhy.CausalModel(\n",
    "        data = df1,\n",
    "        graph=causal_graph.replace(\"\\n\", \" \"),\n",
    "        treatment=\"shuffle\",\n",
    "        outcome='custom_skip')\n",
    "model.view_model()\n",
    "# from IPython.display import Image, display\n",
    "# display(Image(filename=\"causal_model.png\"))"
   ]
  },
  {
   "cell_type": "code",
   "execution_count": 21,
   "metadata": {},
   "outputs": [
    {
     "name": "stdout",
     "output_type": "stream",
     "text": [
      "Estimand type: nonparametric-ate\n",
      "\n",
      "### Estimand : 1\n",
      "Estimand name: backdoor\n",
      "Estimand expression:\n",
      "    d                    \n",
      "──────────(E[customₛₖᵢₚ])\n",
      "d[shuffle]               \n",
      "Estimand assumption 1, Unconfoundedness: If U→{shuffle} and U→custom_skip then P(custom_skip|shuffle,,U) = P(custom_skip|shuffle,)\n",
      "\n",
      "### Estimand : 2\n",
      "Estimand name: iv\n",
      "No such variable(s) found!\n",
      "\n",
      "### Estimand : 3\n",
      "Estimand name: frontdoor\n",
      "No such variable(s) found!\n",
      "\n"
     ]
    }
   ],
   "source": [
    "identified_estimand = model.identify_effect(proceed_when_unidentifiable=True)\n",
    "print(identified_estimand)"
   ]
  },
  {
   "cell_type": "code",
   "execution_count": 22,
   "metadata": {},
   "outputs": [
    {
     "name": "stdout",
     "output_type": "stream",
     "text": [
      "linear_regression\n",
      "{'control_value': 0, 'treatment_value': 1, 'test_significance': None, 'evaluate_effect_strength': False, 'confidence_intervals': False, 'target_units': 'ate', 'effect_modifiers': ['hour_of_day']}\n"
     ]
    },
    {
     "name": "stderr",
     "output_type": "stream",
     "text": [
      "c:\\users\\skadi\\appdata\\local\\programs\\python\\python37\\lib\\site-packages\\dowhy\\causal_estimator.py:255: SettingWithCopyWarning: \n",
      "A value is trying to be set on a copy of a slice from a DataFrame.\n",
      "Try using .loc[row_indexer,col_indexer] = value instead\n",
      "\n",
      "See the caveats in the documentation: https://pandas.pydata.org/pandas-docs/stable/user_guide/indexing.html#returning-a-view-versus-a-copy\n",
      "  num_quantiles, duplicates=\"drop\")\n"
     ]
    },
    {
     "name": "stdout",
     "output_type": "stream",
     "text": [
      "*** Causal Estimate ***\n",
      "\n",
      "## Identified estimand\n",
      "Estimand type: nonparametric-ate\n",
      "\n",
      "### Estimand : 1\n",
      "Estimand name: backdoor\n",
      "Estimand expression:\n",
      "    d                    \n",
      "──────────(E[customₛₖᵢₚ])\n",
      "d[shuffle]               \n",
      "Estimand assumption 1, Unconfoundedness: If U→{shuffle} and U→custom_skip then P(custom_skip|shuffle,,U) = P(custom_skip|shuffle,)\n",
      "\n",
      "## Realized estimand\n",
      "b: custom_skip~shuffle+shuffle*hour_of_day\n",
      "Target units: ate\n",
      "\n",
      "## Estimate\n",
      "Mean value: 0.03493388716692036\n",
      "### Conditional Estimates\n",
      "__categorical__hour_of_day\n",
      "(-0.001, 10.0]    0.026105\n",
      "(10.0, 13.0]      0.032809\n",
      "(13.0, 16.0]      0.035748\n",
      "(16.0, 20.0]      0.039202\n",
      "(20.0, 23.0]      0.042690\n",
      "dtype: float64\n"
     ]
    }
   ],
   "source": [
    "estimate = model.estimate_effect(identified_estimand,\n",
    "                                 method_name=\"backdoor.linear_regression\",target_units=\"ate\")\n",
    "# ATE = Average Treatment Effect\n",
    "# ATT = Average Treatment Effect on Treated (i.e. those who were assigned a different room)\n",
    "# ATC = Average Treatment Effect on Control (i.e. those who were not assigned a different room)\n",
    "print(estimate)"
   ]
  },
  {
   "cell_type": "code",
   "execution_count": null,
   "metadata": {},
   "outputs": [],
   "source": []
  }
 ],
 "metadata": {
  "kernelspec": {
   "display_name": "Python 3.9.13 64-bit",
   "language": "python",
   "name": "python3"
  },
  "language_info": {
   "codemirror_mode": {
    "name": "ipython",
    "version": 3
   },
   "file_extension": ".py",
   "mimetype": "text/x-python",
   "name": "python",
   "nbconvert_exporter": "python",
   "pygments_lexer": "ipython3",
   "version": "3.9.13"
  },
  "vscode": {
   "interpreter": {
    "hash": "2a8dfe095fce2b5e88c64a2c3ee084c8e0e0d70b23e7b95b1cfb538be294c5c8"
   }
  }
 },
 "nbformat": 4,
 "nbformat_minor": 4
}
